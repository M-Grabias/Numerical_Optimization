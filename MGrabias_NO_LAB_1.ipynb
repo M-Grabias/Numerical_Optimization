{
 "cells": [
  {
   "cell_type": "markdown",
   "metadata": {},
   "source": [
    "Rafał Nowak\n",
    "# Numerical Optimization\n",
    "## Problem set 1 (20 points)\n",
    "\n",
    "**Submission deadline**: Tuesday, 29.10.2020\n",
    "\n",
    "* All submissions should contain single file.<br/>This can be single Jupyter notebook file (with extension `ipynb`) or ZIP archive in case the are some additional files needed.\n",
    "* It is recommended to write the reports using LaTeX. \n",
    "* One can report the answers, comments and results in PDF or notebook file.\n",
    "* All the source code should be written in Python or Julia."
   ]
  },
  {
   "cell_type": "markdown",
   "metadata": {},
   "source": [
    "**Problem 1.1 (5 pts)**\n",
    "\n",
    "In this problem you are going to solve the system of linear equations $Ax=b$, where $A\\in \\mathbb R^{n\\times n}$, $b\\in\\mathbb R^n$ are given.\n",
    "\n",
    "1. Implement the [Gauss elimination algorithm](https://www.wikiwand.com/en/Gaussian_elimination) that solves the system $Ax=b$. \n",
    "> `x = solve(A,b)`\n",
    "2. Test your algorithm with built-in solver (see [`\\`](https://docs.julialang.org/en/v1/stdlib/LinearAlgebra/#Base.:\\-Tuple{AbstractArray{T,2}%20where%20T,Union{AbstractArray{T,1},%20AbstractArray{T,2}}%20where%20T}) in Julia for example).<br/>\n",
    "One can perform the tests by taking $b := Ax$ for somehow generated vector (solution) $x\\in\\mathbb R^n$.\n",
    "3. Experiment with different kind of matrices $A$: symmetric, (2,3-)diagonal, Hilbert, positive definite, ..., "
   ]
  },
  {
   "cell_type": "code",
   "execution_count": 1,
   "metadata": {},
   "outputs": [],
   "source": [
    "import numpy as np\n",
    "\n",
    "def solve(A,b):\n",
    "    '''\n",
    "    Finds the solution to the matrix equation Ax = b for provided A and b\n",
    "    Input:\n",
    "    - A; square nxn matrix\n",
    "    - b; n-dimensional vector\n",
    "    Returns:\n",
    "    - x; n-dimensional vector\n",
    "    '''\n",
    "    \n",
    "    M = np.hstack((A,b))\n",
    "    M = M.astype(np.float32)\n",
    "    \n",
    "    #bring matrix to echelon form\n",
    "    for i in range(0, len(A)):\n",
    "        for j in range(1, len(A)):\n",
    "            if j > i:\n",
    "                M[j] = M[j] - (M[j, i] / M[i, i]) * M[i] \n",
    "      \n",
    "    #get one in the last [n,n] marix entry\n",
    "    M[-1] = M[-1] / M[A.shape[0] - 1, A.shape[1] - 1]\n",
    "    \n",
    "    #go backwards to obtain an n x n Identity        \n",
    "    for i in range(len(A)-1, -1, -1):\n",
    "        for j in range(len(A)-2, -1, -1):\n",
    "            \n",
    "            #row operations to get zero values on off-diagonals\n",
    "            if i > j:\n",
    "                M[j] = M[j] - M[j,i] * M[i] \n",
    "                \n",
    "            #obtaining ones on the diagonals    \n",
    "            if i == j:\n",
    "                M[j] = M[j] / M[j,j]\n",
    "                \n",
    "    return M[:,-1].reshape(len(b),1)"
   ]
  },
  {
   "cell_type": "code",
   "execution_count": 216,
   "metadata": {},
   "outputs": [],
   "source": [
    "A = np.array([[2,1,-1],[-3,-1,2],[-2,1,2]])\n",
    "b = np.array([[8,-11,-3]]).reshape(3,1)"
   ]
  },
  {
   "cell_type": "code",
   "execution_count": 217,
   "metadata": {},
   "outputs": [
    {
     "data": {
      "text/plain": [
       "array([[ 2.],\n",
       "       [ 3.],\n",
       "       [-1.]], dtype=float32)"
      ]
     },
     "execution_count": 217,
     "metadata": {},
     "output_type": "execute_result"
    }
   ],
   "source": [
    "my_solution = solve(A,b)\n",
    "my_solution"
   ]
  },
  {
   "cell_type": "code",
   "execution_count": 218,
   "metadata": {},
   "outputs": [
    {
     "data": {
      "text/plain": [
       "array([[ 2.],\n",
       "       [ 3.],\n",
       "       [-1.]])"
      ]
     },
     "execution_count": 218,
     "metadata": {},
     "output_type": "execute_result"
    }
   ],
   "source": [
    "solver_solution = np.linalg.solve(A,b)\n",
    "solver_solution\n",
    "\n",
    "#the solutions from solver and my functions are identical"
   ]
  },
  {
   "cell_type": "code",
   "execution_count": 219,
   "metadata": {},
   "outputs": [
    {
     "data": {
      "text/plain": [
       "array([[ 4.       ],\n",
       "       [-3.6666667],\n",
       "       [-0.75     ]], dtype=float32)"
      ]
     },
     "execution_count": 219,
     "metadata": {},
     "output_type": "execute_result"
    }
   ],
   "source": [
    "#some more testing\n",
    "test_1 = np.array([[2,0,0],[0,3,0],[0,0,4]])\n",
    "\n",
    "sol_1 = solve(test_1, b)\n",
    "sol_1"
   ]
  },
  {
   "cell_type": "code",
   "execution_count": 220,
   "metadata": {},
   "outputs": [
    {
     "data": {
      "text/plain": [
       "array([[ 4.        ],\n",
       "       [-3.66666667],\n",
       "       [-0.75      ]])"
      ]
     },
     "execution_count": 220,
     "metadata": {},
     "output_type": "execute_result"
    }
   ],
   "source": [
    "solver_solution_diag = np.linalg.solve(test_1,b)\n",
    "solver_solution_diag\n",
    "\n",
    "#the solutions from solver and my functions are identical"
   ]
  },
  {
   "cell_type": "code",
   "execution_count": 221,
   "metadata": {},
   "outputs": [
    {
     "data": {
      "text/plain": [
       "array([[  377.99896],\n",
       "       [-1859.9946 ],\n",
       "       [ 1679.995  ]], dtype=float32)"
      ]
     },
     "execution_count": 221,
     "metadata": {},
     "output_type": "execute_result"
    }
   ],
   "source": [
    "from scipy.linalg import hilbert\n",
    "\n",
    "test_2 = hilbert(3)\n",
    "\n",
    "sol_2 = solve(test_2, b)\n",
    "sol_2"
   ]
  },
  {
   "cell_type": "code",
   "execution_count": 222,
   "metadata": {},
   "outputs": [
    {
     "data": {
      "text/plain": [
       "array([[  378.],\n",
       "       [-1860.],\n",
       "       [ 1680.]])"
      ]
     },
     "execution_count": 222,
     "metadata": {},
     "output_type": "execute_result"
    }
   ],
   "source": [
    "solver_solution_Hilbert = np.linalg.solve(test_2,b)\n",
    "solver_solution_Hilbert\n",
    "\n",
    "#the solutions from solver and my functions are identical"
   ]
  },
  {
   "cell_type": "markdown",
   "metadata": {},
   "source": [
    "**Problem 1.2 (5 pts)**\n",
    "\n",
    "Consider the following linear problem:\n",
    "```\n",
    "    maximize     2x+2y+z\n",
    "    \n",
    "                 | 1 1 1 |   | x |     | 5 |\n",
    "    subject to   | 1 1 0 | * | y |  <= | 4 |\n",
    "                 | 0 0 1 |   | z |     | 4 |\n",
    "                 \n",
    "                 x, y, z >= 0\n",
    "```\n",
    "* Plot the 3D polytope defined be the constraints. What is the number of vertices?\n",
    "* Solve the LP."
   ]
  },
  {
   "cell_type": "code",
   "execution_count": 2,
   "metadata": {},
   "outputs": [
    {
     "data": {
      "image/png": "[encoded data removed]",
      "text/plain": [
       "<Figure size 432x288 with 1 Axes>"
      ]
     },
     "metadata": {
      "needs_background": "light"
     },
     "output_type": "display_data"
    }
   ],
   "source": [
    "# the code for this question has been developed based on the comments from the following thread on stackoverflow.com:\n",
    "# https://stackoverflow.com/questions/49098466/plot-3d-convex-closed-regions-in-matplot-lib/49115448\n",
    "\n",
    "from scipy.spatial import HalfspaceIntersection\n",
    "from scipy.spatial import ConvexHull\n",
    "import scipy as sp\n",
    "import numpy as np\n",
    "import matplotlib.pyplot as plt\n",
    "import mpl_toolkits.mplot3d as a3\n",
    "import matplotlib.colors as colors\n",
    "\n",
    "# define the constraints in the form Ax + b <= 0 and put into [A,b]\n",
    "halfspaces = np.array([\n",
    "                    [1., 1., 1., -5.],\n",
    "                    [1., 1., 0., -4.],\n",
    "                    [0., 0., 1., -4.],\n",
    "                    [-1., 0., 0., 0.],\n",
    "                    [0., -1., 0., 0.],\n",
    "                    [0., 0., -1., 0.],\n",
    "                    ])\n",
    "\n",
    "# provide a feasible point satisfying the above constraints\n",
    "feasible_point = np.array([1., 1., 1.])\n",
    "\n",
    "hs = HalfspaceIntersection(halfspaces, feasible_point)\n",
    "vertices = hs.intersections\n",
    "hull = ConvexHull(vertices)\n",
    "faces = hull.simplices\n",
    "\n",
    "colours = [colors for name, colors in colors.TABLEAU_COLORS.items()]\n",
    "colours = colours[0:len(vertices)]\n",
    "\n",
    "# plot the graph\n",
    "ax = a3.Axes3D(plt.figure())\n",
    "\n",
    "for s in faces:\n",
    "    sq = [\n",
    "        [vertices[s[0], 0], vertices[s[0], 1], vertices[s[0], 2]],\n",
    "        [vertices[s[1], 0], vertices[s[1], 1], vertices[s[1], 2]],\n",
    "        [vertices[s[2], 0], vertices[s[2], 1], vertices[s[2], 2]]\n",
    "    ]\n",
    "\n",
    "    f = a3.art3d.Poly3DCollection([sq])\n",
    "    f.set_edgecolor('k')\n",
    "    f.set_alpha(0.15)\n",
    "    ax.add_collection3d(f)\n",
    "    \n",
    "\n",
    "    \n",
    "for vertex in range(len(vertices)):\n",
    "    \n",
    "    ax.scatter(vertices[vertex][0],\n",
    "               vertices[vertex][1],\n",
    "               vertices[vertex][2], \n",
    "               c = colours[vertex],\n",
    "               label = '{}'.format(np.rint(vertices[vertex])),\n",
    "               s = 100)\n",
    "\n",
    "ax.azim = 20 # nice viewing angle\n",
    "ax.set_xlim([0,5])\n",
    "ax.set_ylim([0,5])\n",
    "ax.set_zlim([0,5])\n",
    "\n",
    "ax.set_xlabel('X')\n",
    "ax.set_ylabel('Y')\n",
    "ax.set_zlabel('Z')\n",
    "ax.legend(title = \"Vertices:\")\n",
    "\n",
    "plt.show()\n",
    "\n",
    "# some unnecessary lines connecting the vertices in the planes of the polytope's sides are present\n",
    "# but I hope that it is okay and readable nevertheless"
   ]
  },
  {
   "cell_type": "code",
   "execution_count": 224,
   "metadata": {},
   "outputs": [
    {
     "name": "stdout",
     "output_type": "stream",
     "text": [
      "There are 8 vertices in this polytope, each corresponding to a feasible solution\n"
     ]
    }
   ],
   "source": [
    "print('There are {} vertices in this polytope, each corresponding to a basic feasible solution'.format(len(vertices)))"
   ]
  },
  {
   "cell_type": "code",
   "execution_count": 3,
   "metadata": {},
   "outputs": [
    {
     "name": "stdout",
     "output_type": "stream",
     "text": [
      "The optimized value for the objective function is 9.0 corresponding to the non-unique solutions [[-0.  4.  1.]\n",
      " [ 4. -0.  1.]]\n"
     ]
    }
   ],
   "source": [
    "def objective_function(x, y, z):\n",
    "    return 2 * x + 2 * y + z\n",
    "\n",
    "values = []\n",
    "for vertex in range(len(vertices)):\n",
    "    values.append(objective_function(vertices[vertex][0], vertices[vertex][1], vertices[vertex][2]))\n",
    "\n",
    "optimized_value = np.max(values)\n",
    "indices = np.where(values == optimized_value)\n",
    "if len(indices[0]) != 1:\n",
    "    comment = 'non-unique'\n",
    "    noun = 'solutions'\n",
    "else:\n",
    "    comment = 'unique'\n",
    "    noun = 'solution'\n",
    "solution = np.rint(vertices[indices])\n",
    "\n",
    "print(\"The optimized value for the objective function is {} corresponding to the {} {} {}\" \\\n",
    "      .format(optimized_value, comment, noun, solution))"
   ]
  },
  {
   "cell_type": "markdown",
   "metadata": {},
   "source": [
    "**Problem 1.3 (10 pts)**\n",
    "\n",
    "Implement the simplex algorithm solving the problem\n",
    "```\n",
    "   minimize c^T x\n",
    "   subject to Ax = b and x >= 0\n",
    "```\n",
    "You can assume that the initial *feasible base* (see [BFS](https://www.wikiwand.com/en/Basic_feasible_solution)) $I$ is given.<br/>\n",
    "Your function should output the optimal value and the minimizer $x$."
   ]
  },
  {
   "cell_type": "code",
   "execution_count": 2,
   "metadata": {},
   "outputs": [],
   "source": [
    "data = np.load('simplex_test_data.npz', allow_pickle = True)['data'].item()"
   ]
  },
  {
   "cell_type": "code",
   "execution_count": 7,
   "metadata": {},
   "outputs": [],
   "source": [
    "def simplex_method(I, c, A, b):\n",
    "    '''\n",
    "    Function implementing a simplex algorith to solve a LPP defined by:\n",
    "    - c: the objective function to be minimized\n",
    "    - A and b: matrix and vector forming a set of constraints so that Ax = b\n",
    "    - I: a list of integers indicating column indices which form the initial basis\n",
    "        \n",
    "    Outputs a tuple containing:\n",
    "    - v: the minimized value of the objective function\n",
    "    - x: np.array with the solution to the LP\n",
    "    '''\n",
    "    card = len(I) # cardinality of set I\n",
    "    x = np.zeros(A.shape[1])\n",
    "    Ab = np.hstack((A, b.reshape(len(b), 1)))    \n",
    "    I_bar = [i for i in range(A.shape[1]) if i not in I] \n",
    "        \n",
    "    while True:\n",
    "        B = A[:,I]\n",
    "        B_inverse = np.linalg.inv(B) \n",
    "        \n",
    "        B_inverse_Ab = B_inverse @ Ab\n",
    "        \n",
    "        # find c_b and c_n   \n",
    "        c_b = c[I]\n",
    "        c_n = c[I_bar]\n",
    "        \n",
    "        # get B_inv_N from B_inv_Ab\n",
    "        B_inverse_N = B_inverse_Ab[:,I_bar]\n",
    "        \n",
    "        # r has the same length as I_bar!\n",
    "        r = (c_n -  c_b.T @ B_inverse_N)\n",
    "        \n",
    "        # condition for breaking the loop    \n",
    "        if np.all(r >= 0):\n",
    "            x = np.zeros(A.shape[1])\n",
    "            x[I] = B_inverse_Ab[:,-1] #solution to the LP\n",
    "            val = c.T @ x #calculate the minimized value\n",
    "            return (val, x)\n",
    "        \n",
    "        # get index of the most negative r element\n",
    "        h_index = np.argmin(r)\n",
    "        # column number under that index in I_bar going into I\n",
    "        column_in = I_bar[h_index]\n",
    "        # get ratios of x_b and column going in\n",
    "        # ratios has the same length as I!\n",
    "        ratios = B_inverse_Ab[:, -1] / B_inverse_Ab[:, column_in]\n",
    "        # want smallest positive ratio - replace negatives with a very big number\n",
    "        v_index = np.where(ratios > 0, ratios, 10000).argmin()\n",
    "        # column number under that v_index in I going into I_bar\n",
    "        column_out = I[v_index]\n",
    "        # swap columns\n",
    "        I[v_index], I_bar[h_index] = column_in, column_out\n",
    "            \n",
    "        '''\n",
    "            x= np.zeros(A.shape[1])\n",
    "            x[I] = Ab[:-1, -1]\n",
    "            \n",
    "            invB_Ae = np.zeros(A.shape[1])\n",
    "            invB_Ae[I] = Ab[:-1, h_index]\n",
    "            \n",
    "            e = np.array([0 if i != h_index else 1 for i in range(len(x))])\n",
    "            \n",
    "            y = x - smallest_ratio * invB_Ae + smallest_ratio * e\n",
    "                                    \n",
    "            I_new = np.nonzero(y)[0] # non-zero elements of calculated y become new temporary set I_new\n",
    "            \n",
    "            if len(I_new) > len(I):\n",
    "                x = np.zeros(A.shape[1])\n",
    "            \n",
    "                x[I] = B_inverse_Ab[:,-1] #solution to the LP\n",
    "        \n",
    "                v = c.T @ x #calculate the minimized value\n",
    "            \n",
    "                return (v, x)\n",
    "            else:\n",
    "                I = I_new\n",
    "            I_bar = [i for i in range(A.shape[1]) if i not in I]\n",
    "        '''\n"
   ]
  },
  {
   "cell_type": "code",
   "execution_count": null,
   "metadata": {},
   "outputs": [],
   "source": []
  },
  {
   "cell_type": "code",
   "execution_count": 8,
   "metadata": {},
   "outputs": [
    {
     "name": "stdout",
     "output_type": "stream",
     "text": [
      "LPP number: 1\n",
      "Model minimum: 0.41710192354023123\n",
      "My minimum: 0.41710192354023123\n",
      "LPP number: 2\n",
      "Model minimum: -0.6436277850837772\n",
      "My minimum: -0.6436277850837775\n",
      "LPP number: 3\n",
      "Model minimum: 0.3270338111619291\n",
      "My minimum: 0.32703381116192887\n",
      "LPP number: 4\n",
      "Model minimum: 2.0440084858465752\n",
      "My minimum: 2.0440084858465775\n",
      "LPP number: 5\n",
      "Model minimum: 1.379704136953148\n",
      "My minimum: 1.3797041369531482\n",
      "LPP number: 6\n",
      "Model minimum: -2.1199414044125597\n",
      "My minimum: -2.1199414044125606\n",
      "LPP number: 7\n",
      "Model minimum: 1.2207635097223068\n",
      "My minimum: 1.2207635097223068\n",
      "LPP number: 8\n",
      "Model minimum: 9.980303846991188\n",
      "My minimum: 9.980303846991188\n",
      "LPP number: 9\n",
      "Model minimum: -2.310331801139286\n",
      "My minimum: -2.3103318011392853\n",
      "LPP number: 10\n",
      "Model minimum: -0.6325118029369357\n",
      "My minimum: -0.6325118029369358\n",
      "LPP number: 11\n",
      "Model minimum: -8.940436961832823\n",
      "My minimum: -8.940436961832821\n",
      "LPP number: 12\n",
      "Model minimum: -0.6249772175328356\n",
      "My minimum: -0.6249772175328346\n",
      "LPP number: 13\n",
      "Model minimum: -14.064488675154363\n",
      "My minimum: -14.064488675154355\n",
      "LPP number: 14\n",
      "Model minimum: 6.312642448188878\n",
      "My minimum: 6.31264244818888\n",
      "LPP number: 15\n",
      "Model minimum: 8.59706450572327\n",
      "My minimum: 8.597064505723273\n",
      "LPP number: 16\n",
      "Model minimum: -15.017292766223715\n",
      "My minimum: -15.01729276622372\n",
      "LPP number: 17\n",
      "Model minimum: -1.3120597136688725\n",
      "My minimum: -1.312059713668873\n",
      "LPP number: 18\n",
      "Model minimum: 2.255196758604482\n",
      "My minimum: 2.2551967586044785\n",
      "LPP number: 19\n",
      "Model minimum: -17.974008050909273\n",
      "My minimum: -17.97400805090927\n",
      "LPP number: 20\n",
      "Model minimum: 3.1268636158255187\n",
      "My minimum: 3.1268636158255165\n",
      "LPP number: 21\n",
      "Model minimum: 69.93334053164111\n",
      "My minimum: 69.93334053164153\n",
      "LPP number: 22\n",
      "Model minimum: 18.564089920668433\n",
      "My minimum: 18.564089920668344\n",
      "LPP number: 23\n",
      "Model minimum: 21.5502572181559\n",
      "My minimum: 21.550257218156048\n",
      "LPP number: 24\n",
      "Model minimum: -26.604914597160587\n",
      "My minimum: -26.604914597160658\n",
      "LPP number: 25\n",
      "Model minimum: -42.50498935258516\n",
      "My minimum: -42.50498935258486\n",
      "LPP number: 26\n",
      "Model minimum: 74.66885287575451\n",
      "My minimum: 74.66885287575465\n",
      "LPP number: 27\n",
      "Model minimum: 12.837693673902384\n",
      "My minimum: 12.83769367390229\n",
      "LPP number: 28\n",
      "Model minimum: 53.288156222762964\n",
      "My minimum: 53.2881562227629\n",
      "LPP number: 29\n",
      "Model minimum: 30.315253934875244\n",
      "My minimum: 30.315253934874953\n",
      "LPP number: 30\n",
      "Model minimum: -24.106622674066152\n",
      "My minimum: -24.106622674066223\n",
      "LPP number: 31\n",
      "Model minimum: 26.030585912171997\n",
      "My minimum: 26.030585912172\n",
      "LPP number: 32\n",
      "Model minimum: -8.515530804226456\n",
      "My minimum: -8.515530804226453\n",
      "LPP number: 33\n",
      "Model minimum: -20.434067508208056\n",
      "My minimum: -20.441920733418343\n",
      "LPP number: 34\n",
      "Model minimum: -12.75494585855645\n",
      "My minimum: -13.314651378428177\n",
      "LPP number: 35\n",
      "Model minimum: -5.560909305298278\n",
      "My minimum: -5.571826606222743\n",
      "LPP number: 36\n",
      "Model minimum: -4.274511659961533\n",
      "My minimum: -4.296011061376531\n",
      "LPP number: 37\n",
      "Model minimum: 31.361607728922365\n",
      "My minimum: 31.322941086584144\n",
      "LPP number: 38\n",
      "Model minimum: -14.77153430895327\n",
      "My minimum: -14.771534308953267\n",
      "LPP number: 39\n",
      "Model minimum: -19.309249381733906\n",
      "My minimum: -19.766984247849393\n",
      "LPP number: 40\n",
      "Model minimum: 35.03396048011181\n",
      "My minimum: 35.03299064494361\n"
     ]
    }
   ],
   "source": [
    "for i in range(1,41,1):\n",
    "    print(\"LPP number:\", i)\n",
    "    print(\"Model minimum:\", data[i]['f'])\n",
    "    print(\"My minimum:\", simplex_method(data[i]['I'],data[i]['c'],data[i]['A'],data[i]['b'])[0])"
   ]
  },
  {
   "cell_type": "code",
   "execution_count": null,
   "metadata": {},
   "outputs": [],
   "source": []
  }
 ],
 "metadata": {
  "@webio": {
   "lastCommId": null,
   "lastKernelId": null
  },
  "kernelspec": {
   "display_name": "Python 3",
   "language": "python",
   "name": "python3"
  },
  "language_info": {
   "codemirror_mode": {
    "name": "ipython",
    "version": 3
   },
   "file_extension": ".py",
   "mimetype": "text/x-python",
   "name": "python",
   "nbconvert_exporter": "python",
   "pygments_lexer": "ipython3",
   "version": "3.7.6"
  }
 },
 "nbformat": 4,
 "nbformat_minor": 4
}
