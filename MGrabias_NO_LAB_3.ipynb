{
 "cells": [
  {
   "cell_type": "markdown",
   "metadata": {},
   "source": [
    "Rafał Nowak\n",
    "# Numerical Optimization\n",
    "## Problem set 3 (12 points)\n",
    "\n",
    "**Submission deadline**: Thursday, 26.11.2020\n",
    "\n",
    "* All submissions should contain single file.<br/>This can be single Jupyter notebook file (with extension `ipynb`) or ZIP archive in case the are some additional files needed.\n",
    "* It is recommended to write the reports using LaTeX. \n",
    "* One can report the answers, comments and results in PDF or notebook file.\n",
    "* All the source code should be written in Python or Julia."
   ]
  },
  {
   "cell_type": "markdown",
   "metadata": {},
   "source": [
    "**Problem 3.1** (3 pts)\n",
    "\n",
    "In this problem we consider univariate function $f:\\mathbb R\\to\\mathbb R$.\n",
    "Let us remind the idea of bracketing method\n",
    "> _Bracketing_ is the process of identifying an interval in which a local minimum lies and then successively shrinking the interval.\n",
    "\n",
    "Implement the method `(a,b) = find_initial_bracket(f)` which for given function $f$ gives the bracketing interval $(a,b)$ such that there exist local minimum $c\\in(a,b)$ satisfying $f(a)>f(c)<f(b)$.\n",
    "\n",
    "```julia\n",
    "function find_initial_bracket(f, x=0; s=1e-2, k=2.0)\n",
    "\n",
    "end\n",
    "```\n",
    "\n",
    "```julia\n",
    "# Example test\n",
    "f(x) = 3*x^2 + exp(.3*x-9) + 20*x - 20\n",
    "a, b = find_initial_bracket(f)\n",
    "@show a, b\n",
    "```\n",
    "`(a, b) = (-5.109999999999999, -1.27)`\n",
    "\n",
    "```julia\n",
    "using Plotly\n",
    "plot( f, a , b )\n",
    "```\n",
    "<a href=\"https://ibb.co/kXNfFMh\"><img src=\"https://i.ibb.co/ZxqPCNh/f-bracket.png\" alt=\"f-bracket\" border=\"0\"></a>"
   ]
  },
  {
   "cell_type": "markdown",
   "metadata": {},
   "source": [
    "**Problem 3.2** (4 pts)\n",
    "\n",
    "In this problem we consider [unimodal function](https://www.wikiwand.com/en/Unimodality#/Unimodal_function)\n",
    "and will play with _golden section search_ method.\n",
    "\n",
    "First you should implement the _Fibonacci search_ algorithm provided that you have the (global) array of Fibonacci numbers. Next you should implement the _golden section search_ which uses only _golden ratio_ $\\varphi = (1+\\sqrt 5)/2$.\n",
    "\n",
    "* Implement the [Fibonacci search algorithm](https://www.wikiwand.com/en/Golden-section_search#/Fibonacci_search)<br/>`(a, b) = fibonacci_search(f, a, b, n; ε=1e-4)`<br/>to be run on univariate function $f$, with bracketing interval $[a, b]$, for $n > 1$ function evaluations. It should return the new interval $(a, b)$. The optional parameter $\\varepsilon$ should control the lowest-level interval length.\n",
    "* Implement [Golden section search](https://www.wikiwand.com/en/Golden-section_search#)<br/>`(a, b) = gs_search(f, a, b, n)`<br/> to be run on a univariate function $f$ , with bracketing interval $[a, b]$ , for $n > 1$ function evaluations. It returns the new interval $(a, b)$. Guaranteeing convergence to within $\\varepsilon$ requires $n = (b-a)/(\\varepsilon \\ln\\varphi)$.\n",
    "\n",
    "Present the results on various kind of functions.\n",
    "\n",
    "References:\n",
    "- [Fibonacci Search in Optimization of Unimodal Functions](https://www.maplesoft.com/applications/view.aspx?SID=4193&view=html)\n",
    "- [Golden section search](https://www.wikiwand.com/en/Golden-section_search#)"
   ]
  },
  {
   "cell_type": "markdown",
   "metadata": {},
   "source": [
    "**Problem 3.3 (5 pts)**\n",
    "Consider the [Rosenbrock's function](https://www.wikiwand.com/en/Rosenbrock_function)\n",
    "$$ f(x_1, x_2) = 100(x_2-x_1^2)^2 + (1-x_1)^2 $$\n",
    "<img src=\"https://upload.wikimedia.org/wikipedia/commons/thumb/3/32/Rosenbrock_function.svg/640px-Rosenbrock_function.svg.png\">\n",
    "\n",
    "1. (3 pts) Implement the function that takes the (column) vector $x\\in \\mathbb R^2$ and returns the value, gradient and Hessian matrix of the Rosenbrock's function at point $x$.\n",
    "```julia\n",
    "function rosenbrock (x)\n",
    "    ...\n",
    "    return f, ∇, H\n",
    "end\n",
    "```\n",
    "2. (2 pts) Plot the following graphs:\n",
    "  * contours\n",
    "  * 3-dimensional view of the surface"
   ]
  }
 ],
 "metadata": {
  "@webio": {
   "lastCommId": null,
   "lastKernelId": null
  },
  "kernelspec": {
   "display_name": "Python 3",
   "language": "python",
   "name": "python3"
  },
  "language_info": {
   "codemirror_mode": {
    "name": "ipython",
    "version": 3
   },
   "file_extension": ".py",
   "mimetype": "text/x-python",
   "name": "python",
   "nbconvert_exporter": "python",
   "pygments_lexer": "ipython3",
   "version": "3.7.7"
  }
 },
 "nbformat": 4,
 "nbformat_minor": 4
}
