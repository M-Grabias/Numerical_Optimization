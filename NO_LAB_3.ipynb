{
 "cells": [
  {
   "cell_type": "markdown",
   "metadata": {},
   "source": [
    "Rafał Nowak\n",
    "# Numerical Optimization\n",
    "## Problem set 3 (12 points)\n",
    "\n",
    "**Submission deadline**: Thursday, 26.11.2020\n",
    "\n",
    "* All submissions should contain single file.<br/>This can be single Jupyter notebook file (with extension `ipynb`) or ZIP archive in case the are some additional files needed.\n",
    "* It is recommended to write the reports using LaTeX. \n",
    "* One can report the answers, comments and results in PDF or notebook file.\n",
    "* All the source code should be written in Python or Julia."
   ]
  },
  {
   "cell_type": "markdown",
   "metadata": {},
   "source": [
    "**Problem 3.1** (3 pts)\n",
    "\n",
    "In this problem we consider univariate function $f:\\mathbb R\\to\\mathbb R$.\n",
    "Let us remind the idea of bracketing method\n",
    "> _Bracketing_ is the process of identifying an interval in which a local minimum lies and then successively shrinking the interval.\n",
    "\n",
    "Implement the method `(a,b) = find_initial_bracket(f)` which for given function $f$ gives the bracketing interval $(a,b)$ such that there exist local minimum $c\\in(a,b)$ satisfying $f(a)>f(c)<f(b)$.\n",
    "\n",
    "```julia\n",
    "function find_initial_bracket(f, x=0; s=1e-2, k=2.0)\n",
    "\n",
    "end\n",
    "```\n",
    "\n",
    "```julia\n",
    "# Example test\n",
    "f(x) = 3*x^2 + exp(.3*x-9) + 20*x - 20\n",
    "a, b = find_initial_bracket(f)\n",
    "@show a, b\n",
    "```\n",
    "`(a, b) = (-5.109999999999999, -1.27)`\n",
    "\n",
    "```julia\n",
    "using Plotly\n",
    "plot( f, a , b )\n",
    "```\n",
    "<a href=\"https://ibb.co/kXNfFMh\"><img src=\"https://i.ibb.co/ZxqPCNh/f-bracket.png\" alt=\"f-bracket\" border=\"0\"></a>"
   ]
  },
  {
   "cell_type": "code",
   "execution_count": 79,
   "metadata": {},
   "outputs": [],
   "source": [
    "def find_initial_bracket(f, direction, x=0, s=1e-2, k=2.0):\n",
    "    '''\n",
    "    INPUT:\n",
    "    - f; function of which the local minimum is to be found\n",
    "    - direction; takes value of 1 or -1, indicates in which direction (+ve or -ve respectively)\n",
    "    the search is conducted\n",
    "    - x; initial point (default = 0)\n",
    "    - s; initial step size (default = 1e-2)\n",
    "    - k;, constant that we multiply s with after each iteration\n",
    "    OUTPUT:\n",
    "    - tuple with initial interval in which the local minima is found\n",
    "    '''\n",
    "    assert direction in [-1, 1], \"direction argument should be either 1 or -1\"\n",
    "    s = direction * s\n",
    "    bracket = [x, x + s]\n",
    "    values = [f(x), f(x + s)]\n",
    "    while True:\n",
    "        s *= k\n",
    "        x = x + s\n",
    "        val = f(x)\n",
    "        if val > values[-1]:\n",
    "            bracket.append(x)\n",
    "            break\n",
    "        bracket.append(x)\n",
    "        values.append(val)\n",
    "    return(bracket[-1], bracket[-3])"
   ]
  },
  {
   "cell_type": "code",
   "execution_count": 84,
   "metadata": {},
   "outputs": [
    {
     "name": "stdout",
     "output_type": "stream",
     "text": [
      "-5.1 -1.2600000000000002\n"
     ]
    },
    {
     "data": {
      "text/plain": [
       "(-55, -40)"
      ]
     },
     "execution_count": 84,
     "metadata": {},
     "output_type": "execute_result"
    },
    {
     "data": {
      "image/png": "[encoded data removed]",
      "text/plain": [
       "<Figure size 432x288 with 1 Axes>"
      ]
     },
     "metadata": {
      "needs_background": "light"
     },
     "output_type": "display_data"
    }
   ],
   "source": [
    "import numpy as np\n",
    "from matplotlib import pyplot as plt\n",
    "\n",
    "def test_f(x):\n",
    "    return 3*x**2 + np.exp(0.3*x - 9) + 20*x - 20\n",
    "\n",
    "# test our bracketing function with the provided test function\n",
    "a, b = find_initial_bracket(f = test_f, direction = -1)\n",
    "print(a,b)\n",
    "domain = np.linspace(-10,10,1000)\n",
    "\n",
    "plt.figure()\n",
    "plt.plot(domain, test_f(domain))\n",
    "plt.xlim(a, b)\n",
    "plt.ylim(-55, -40)\n",
    "\n",
    "# the minimum is at x = -3.3333..., clearly lying within the computed interval "
   ]
  },
  {
   "cell_type": "code",
   "execution_count": 88,
   "metadata": {},
   "outputs": [
    {
     "name": "stdout",
     "output_type": "stream",
     "text": [
      "-0.30000000000000004 -0.06\n"
     ]
    },
    {
     "data": {
      "text/plain": [
       "(4.5, 5)"
      ]
     },
     "execution_count": 88,
     "metadata": {},
     "output_type": "execute_result"
    },
    {
     "data": {
      "image/png": "[encoded data removed]",
      "text/plain": [
       "<Figure size 432x288 with 1 Axes>"
      ]
     },
     "metadata": {
      "needs_background": "light"
     },
     "output_type": "display_data"
    }
   ],
   "source": [
    "# further test our bracketing function with a simple quadratic\n",
    "def quadratic(x):\n",
    "    return 5*x**2 + 2*x + 5\n",
    "\n",
    "a_q, b_q = find_initial_bracket(f = quadratic, direction = -1)\n",
    "print(a_q, b_q)\n",
    "\n",
    "domain = np.linspace(-5,5,1000)\n",
    "plt.figure()\n",
    "plt.plot(domain, quadratic(domain))\n",
    "plt.xlim(a_q, b_q)\n",
    "plt.ylim(4.5, 5)\n",
    "\n",
    "# the local (and global) minimum is x = -0.2, clearly lying within the computed interval "
   ]
  },
  {
   "cell_type": "markdown",
   "metadata": {},
   "source": [
    "The important note regarding our function is that it requires some **prior knowledge** about the direction from the initial point in which we should proceed with iterations to obtain the bounded minimum. Alternatively, we could develop the function so that it performs the search in both directions and returns the bounded interval containing the first encountered minimum."
   ]
  },
  {
   "cell_type": "markdown",
   "metadata": {},
   "source": [
    "**Problem 3.2** (4 pts)\n",
    "\n",
    "In this problem we consider [unimodal function](https://www.wikiwand.com/en/Unimodality#/Unimodal_function)\n",
    "and will play with _golden section search_ method.\n",
    "\n",
    "First you should implement the _Fibonacci search_ algorithm provided that you have the (global) array of Fibonacci numbers. Next you should implement the _golden section search_ which uses only _golden ratio_ $\\varphi = (1+\\sqrt 5)/2$.\n",
    "\n",
    "* Implement the [Fibonacci search algorithm](https://www.wikiwand.com/en/Golden-section_search#/Fibonacci_search)<br/>`(a, b) = fibonacci_search(f, a, b, n; ε=1e-4)`<br/>to be run on univariate function $f$, with bracketing interval $[a, b]$, for $n > 1$ function evaluations. It should return the new interval $(a, b)$. The optional parameter $\\varepsilon$ should control the lowest-level interval length.\n",
    "* Implement [Golden section search](https://www.wikiwand.com/en/Golden-section_search#)<br/>`(a, b) = gs_search(f, a, b, n)`<br/> to be run on a univariate function $f$ , with bracketing interval $[a, b]$ , for $n > 1$ function evaluations. It returns the new interval $(a, b)$. Guaranteeing convergence to within $\\varepsilon$ requires $n = (b-a)/(\\varepsilon \\ln\\varphi)$.\n",
    "\n",
    "Present the results on various kind of functions.\n",
    "\n",
    "References:\n",
    "- [Fibonacci Search in Optimization of Unimodal Functions](https://www.maplesoft.com/applications/view.aspx?SID=4193&view=html)\n",
    "- [Golden section search](https://www.wikiwand.com/en/Golden-section_search#)"
   ]
  },
  {
   "cell_type": "code",
   "execution_count": null,
   "metadata": {},
   "outputs": [],
   "source": [
    "def fibonacci_search(f, a, b, n, eps=1e-4):\n",
    "    return 1\n",
    "\n",
    "def gs_search(f, a, b, n):\n",
    "    return 2"
   ]
  },
  {
   "cell_type": "code",
   "execution_count": null,
   "metadata": {},
   "outputs": [],
   "source": [
    "'''\n",
    "\n",
    "# define the function which finds the initial bracket\n",
    "def find_initial_bracket(f, b=0, s=1e-2, k=2.0):\n",
    "    # set initial boundaries for the interval\n",
    "    a = -10e6 \n",
    "    c = 10e6\n",
    "    # define the initial interval:\n",
    "    # a, c - left and right outermost points respectively\n",
    "    # b - some point s.t. a < b < c\n",
    "    bracket = [a, b, c]\n",
    "    while True:\n",
    "        # get random value from the interval [a,c]\n",
    "        x = np.random.uniform(low = bracket[0], high = bracket[2])\n",
    "        val = f(x)\n",
    "        # now x is either smaller or greater than the in-between point b in the interval,\n",
    "        # also f(x) either smaller or greater than f(b) - get 4 different outcomes in total\n",
    "        if x < bracket[1]:\n",
    "            # x is between a and b\n",
    "            if val < f(bracket[1]):\n",
    "                # b and x become the right end of the interval and the in-between point respectively\n",
    "                bracket[1], bracket[2] = x, bracket[1]\n",
    "            else:\n",
    "                # x becomes the left end of the interval\n",
    "                bracket[0] = x\n",
    "        else:\n",
    "            # x is between b and c\n",
    "            if val < f(bracket[1]):\n",
    "                # b and x become the left end of the interval and the in-between point respectively\n",
    "                bracket[0], bracket[1] = bracket[1], x\n",
    "            else:\n",
    "                # x becomes the right end of the interval\n",
    "                bracket[2] = x\n",
    "        # compute the length of the interval\n",
    "        d = bracket[2] - bracket[0]\n",
    "        # if smaller than desired interval width - break and return the interval\n",
    "        if d < k:\n",
    "            break\n",
    "    return(bracket[0], bracket[2])'''"
   ]
  },
  {
   "cell_type": "markdown",
   "metadata": {},
   "source": [
    "**Problem 3.3 (5 pts)**\n",
    "Consider the [Rosenbrock's function](https://www.wikiwand.com/en/Rosenbrock_function)\n",
    "$$ f(x_1, x_2) = 100(x_2-x_1^2)^2 + (1-x_1)^2 $$\n",
    "<img src=\"https://upload.wikimedia.org/wikipedia/commons/thumb/3/32/Rosenbrock_function.svg/640px-Rosenbrock_function.svg.png\">\n",
    "\n",
    "1. (3 pts) Implement the function that takes the (column) vector $x\\in \\mathbb R^2$ and returns the value, gradient and Hessian matrix of the Rosenbrock's function at point $x$.\n",
    "```julia\n",
    "function rosenbrock (x)\n",
    "    ...\n",
    "    return f, ∇, H\n",
    "end\n",
    "```\n",
    "2. (2 pts) Plot the following graphs:\n",
    "  * contours\n",
    "  * 3-dimensional view of the surface"
   ]
  },
  {
   "cell_type": "code",
   "execution_count": 41,
   "metadata": {},
   "outputs": [],
   "source": [
    "# define a function which computes the value, gradient and hessian matrix of the Rosenbrock's\n",
    "# function at point x from R^2\n",
    "\n",
    "def rosenbrock(x):\n",
    "    '''\n",
    "    input: x, a 2-dimensional column vector with coordinates\n",
    "    output: a tuple with\n",
    "    - value of the rosenbrock function at point x\n",
    "    - gradient of the rosenbrok function at point x\n",
    "    - hessian matrix of the rosenbrock function at point x\n",
    "    '''\n",
    "    # compute value at x \n",
    "    value = (1 - x[0])**2 + 100 * (x[1] - x[0]**2)**2\n",
    "    # compute the gradient at x, grad(f) = (df/dx_1, df/dx_2)\n",
    "    dfdx = -2 + 2 * x[0] - 400 * x[0] * (x[1] - x[0]**2)\n",
    "    dfdy = 200 * (x[1] - x[0]**2)\n",
    "    grad = np.array([dfdx, dfdy])\n",
    "    # compute the hessian, Hf(x) \n",
    "    d2fdx2 = -400 * x[1] + 1200 * x[0]**2 + 2 \n",
    "    d2fdy2 = -200\n",
    "    d2fdxdy = -400 * x[0]\n",
    "    H = np.array([[d2fdx2, d2fdxdy], [d2fdxdy, d2fdy2]])\n",
    "    return(value, grad, H)"
   ]
  },
  {
   "cell_type": "code",
   "execution_count": null,
   "metadata": {},
   "outputs": [],
   "source": []
  }
 ],
 "metadata": {
  "@webio": {
   "lastCommId": null,
   "lastKernelId": null
  },
  "kernelspec": {
   "display_name": "Python 3",
   "language": "python",
   "name": "python3"
  },
  "language_info": {
   "codemirror_mode": {
    "name": "ipython",
    "version": 3
   },
   "file_extension": ".py",
   "mimetype": "text/x-python",
   "name": "python",
   "nbconvert_exporter": "python",
   "pygments_lexer": "ipython3",
   "version": "3.7.6"
  }
 },
 "nbformat": 4,
 "nbformat_minor": 4
}
